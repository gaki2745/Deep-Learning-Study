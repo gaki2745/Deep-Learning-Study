{
 "cells": [
  {
   "cell_type": "code",
   "execution_count": 1,
   "metadata": {},
   "outputs": [],
   "source": [
    "import tensorflow as tf\n",
    "import matplotlib.pyplot as plt"
   ]
  },
  {
   "cell_type": "code",
   "execution_count": 2,
   "metadata": {},
   "outputs": [],
   "source": [
    "X = [1, 2, 3]\n",
    "Y = [1, 2, 3]"
   ]
  },
  {
   "cell_type": "code",
   "execution_count": 3,
   "metadata": {},
   "outputs": [],
   "source": [
    "W = tf.placeholder(tf.float32)\n",
    "#Simpled Hypothesis\n",
    "hypothesis = X * W"
   ]
  },
  {
   "cell_type": "code",
   "execution_count": 4,
   "metadata": {},
   "outputs": [
    {
     "data": {
      "image/png": "[encoded data removed]",
      "text/plain": [
       "<Figure size 432x288 with 1 Axes>"
      ]
     },
     "metadata": {
      "needs_background": "light"
     },
     "output_type": "display_data"
    }
   ],
   "source": [
    "cost = tf.reduce_mean(tf.square(hypothesis - Y))\n",
    "sess = tf.Session()\n",
    "sess.run(tf.global_variables_initializer())\n",
    "W_val = []\n",
    "cost_val = []\n",
    "for i in range(-30, 50):\n",
    "    feed_W = i * 0.1\n",
    "    curr_cost, curr_W = sess.run([cost, W], feed_dict = {W: feed_W})\n",
    "    W_val.append(curr_W)\n",
    "    cost_val.append(curr_cost)\n",
    "    \n",
    "    plt.plot(W_val, cost_val)\n",
    "    if i == 50: plt.show()"
   ]
  },
  {
   "cell_type": "code",
   "execution_count": null,
   "metadata": {},
   "outputs": [],
   "source": [
    "#결론 W == 1 일때 cost값이 최소가 된다."
   ]
  },
  {
   "cell_type": "code",
   "execution_count": 6,
   "metadata": {},
   "outputs": [
    {
     "name": "stdout",
     "output_type": "stream",
     "text": [
      "0 32.962677 [-0.5344305]\n",
      "1 9.376051 [0.18163705]\n",
      "2 2.666966 [0.56353974]\n",
      "3 0.75860345 [0.7672212]\n",
      "4 0.21578053 [0.87585133]\n",
      "5 0.061377484 [0.9337874]\n",
      "6 0.017458476 [0.96468663]\n",
      "7 0.00496597 [0.9811662]\n",
      "8 0.0014125495 [0.9899553]\n",
      "9 0.0004017824 [0.99464285]\n",
      "10 0.000114285154 [0.99714285]\n",
      "11 3.2507764e-05 [0.9984762]\n",
      "12 9.24666e-06 [0.9991873]\n",
      "13 2.6302437e-06 [0.99956656]\n",
      "14 7.4783856e-07 [0.99976885]\n",
      "15 2.1271069e-07 [0.99987674]\n",
      "16 6.0488176e-08 [0.99993426]\n",
      "17 1.7196612e-08 [0.99996495]\n",
      "18 4.917368e-09 [0.9999813]\n",
      "19 1.3835866e-09 [0.99999005]\n",
      "20 3.9587533e-10 [0.9999947]\n"
     ]
    }
   ],
   "source": [
    "x_data = [1, 2, 3]\n",
    "y_data = [1, 2, 3]\n",
    "\n",
    "W = tf.Variable(tf.random_normal([1]), name = 'weight')\n",
    "X = tf.placeholder(tf.float32)\n",
    "Y = tf.placeholder(tf.float32)\n",
    "\n",
    "hypothesis = X*W\n",
    "\n",
    "cost = tf.reduce_sum(tf.square(hypothesis - Y))\n",
    "\n",
    "#Gradient Descent Optimizer \n",
    "learning_rate = 0.1\n",
    "gradient = tf.reduce_mean((W * X -Y) * X)\n",
    "descent = W - learning_rate * gradient\n",
    "update = W.assign(descent)\n",
    "\n",
    "sess = tf.Session()\n",
    "sess.run(tf.global_variables_initializer())\n",
    "for step in range(21):\n",
    "    sess.run(update, feed_dict = {X: x_data, Y: y_data})\n",
    "    print(step, sess.run(cost, feed_dict ={ X: x_data, Y: y_data}), sess.run(W))"
   ]
  },
  {
   "cell_type": "code",
   "execution_count": null,
   "metadata": {},
   "outputs": [],
   "source": [
    "# Gradient Descent Optimaizer 에 의해 최소의 cost 즉 W == 1 에 근접한다\n",
    "#optimizer = tf.train.GradientDescestOptimizer(learning_rate = 0.1) 도 가능\n",
    "#만약  W = 5 라는 변수를 넣어도 빠르게 W == 1 을 update 하게 된다."
   ]
  }
 ],
 "metadata": {
  "kernelspec": {
   "display_name": "Python 3",
   "language": "python",
   "name": "python3"
  },
  "language_info": {
   "codemirror_mode": {
    "name": "ipython",
    "version": 3
   },
   "file_extension": ".py",
   "mimetype": "text/x-python",
   "name": "python",
   "nbconvert_exporter": "python",
   "pygments_lexer": "ipython3",
   "version": "3.6.6"
  }
 },
 "nbformat": 4,
 "nbformat_minor": 2
}
