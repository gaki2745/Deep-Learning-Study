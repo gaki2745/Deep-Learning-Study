{
 "cells": [
  {
   "cell_type": "markdown",
   "metadata": {},
   "source": [
    "## Shape Rank Axis\n",
    "\n",
    "### Shape\n",
    "<br>\n",
    "shape: 배열의 형태 정보를 알려준다."
   ]
  },
  {
   "cell_type": "code",
   "execution_count": 8,
   "metadata": {},
   "outputs": [
    {
     "data": {
      "text/plain": [
       "array([4], dtype=int32)"
      ]
     },
     "execution_count": 8,
     "metadata": {},
     "output_type": "execute_result"
    }
   ],
   "source": [
    "import tensorflow as tf\n",
    "sess = tf.Session()\n",
    "\n",
    "t = tf.constant([1,2,3,4])\n",
    "tf.shape(t).eval(session=sess)"
   ]
  },
  {
   "cell_type": "markdown",
   "metadata": {},
   "source": [
    "해당 배열이 몇 차원으로 이루어 졌는지 배열의 요소가 몇개인지 확인할 때 사용한다."
   ]
  },
  {
   "cell_type": "code",
   "execution_count": 9,
   "metadata": {},
   "outputs": [
    {
     "data": {
      "text/plain": [
       "array([1, 2, 3, 4], dtype=int32)"
      ]
     },
     "execution_count": 9,
     "metadata": {},
     "output_type": "execute_result"
    }
   ],
   "source": [
    "import tensorflow as tf\n",
    " \n",
    "sess = tf.Session()\n",
    " \n",
    "t1 = tf.constant([[[[1,2,3,4],[1,2,3,4], [1,2,3,4]],\n",
    "                   [[1,2,3,4],[1,2,3,4], [1,2,3,4]]]])\n",
    "tf.shape(t1).eval(session=sess)"
   ]
  },
  {
   "cell_type": "markdown",
   "metadata": {},
   "source": [
    "### Tip\n",
    "shape 계산법\n",
    "큰 대괄호의 갯수를 센다. 이것은 Rank를 의미하게 되고 결국 shape이 \n",
    "array([?,?,?,?])라는 값이 나오게 한다.\n",
    "순서가 가장 작은 요소 부터 맨 오른 쪽으로 채워 나간다\n",
    "1. 배열의 가장 작은 요소의 개수: 4\n",
    "2. 4개의 가장 작은 요소가 모인 배열들의 개수 3개\n",
    "3. 3개의 요소가 모인 배열들: 2개\n",
    "4. .. 1개\n",
    "즉 대괄호의 영역에 따라 가장 작은 대괄호의 요소들의 개수를 차례대로 오른쪽 부터 채워나가면 된다.\n",
    "[1,2,3,4]"
   ]
  },
  {
   "cell_type": "markdown",
   "metadata": {},
   "source": [
    "### Rank\n",
    "<br>\n",
    "배열이 몇 차원 배열인지 알수 있다.\n"
   ]
  },
  {
   "cell_type": "code",
   "execution_count": 13,
   "metadata": {},
   "outputs": [],
   "source": [
    "import tensorflow as tf\n",
    " \n",
    "sess = tf.Session()\n",
    " \n",
    "t1 = tf.constant([1,2,3]) #rank = 1\n",
    "t2 = tf.constant([[1,2], [3,4]]) #rank = 2"
   ]
  },
  {
   "cell_type": "markdown",
   "metadata": {},
   "source": [
    "### Axis \n",
    "축의 값, Rank-1 의 최대 값을 지닌다.-> 0부터 시작하기 때문\n",
    "대괄호 기준으로 가장 바깥쪽 Axis = 0 차례대로 1 , 2, 3,,"
   ]
  },
  {
   "cell_type": "markdown",
   "metadata": {},
   "source": [
    "### Matmul Vs Multiple"
   ]
  },
  {
   "cell_type": "code",
   "execution_count": 17,
   "metadata": {
    "scrolled": true
   },
   "outputs": [
    {
     "name": "stdout",
     "output_type": "stream",
     "text": [
      "Metrix 1 Shpae (2, 2)\n",
      "Metrix 2 Shpae (2, 1)\n"
     ]
    },
    {
     "data": {
      "text/plain": [
       "array([[ 5.],\n",
       "       [11.]], dtype=float32)"
      ]
     },
     "execution_count": 17,
     "metadata": {},
     "output_type": "execute_result"
    }
   ],
   "source": [
    "import tensorflow as tf\n",
    "\n",
    "sess = tf.Session()\n",
    "matrix1 = tf.constant([[1., 2.],[3., 4.]])\n",
    "matrix2 = tf.constant([[1.], [2.]])\n",
    "print(\"Metrix 1 Shpae\", matrix1.shape)\n",
    "print(\"Metrix 2 Shpae\", matrix2.shape)\n",
    "tf.matmul(matrix1, matrix2).eval(session = sess)"
   ]
  },
  {
   "cell_type": "code",
   "execution_count": null,
   "metadata": {},
   "outputs": [],
   "source": []
  },
  {
   "cell_type": "code",
   "execution_count": null,
   "metadata": {},
   "outputs": [],
   "source": []
  },
  {
   "cell_type": "code",
   "execution_count": null,
   "metadata": {},
   "outputs": [],
   "source": []
  },
  {
   "cell_type": "code",
   "execution_count": null,
   "metadata": {},
   "outputs": [],
   "source": []
  },
  {
   "cell_type": "code",
   "execution_count": null,
   "metadata": {},
   "outputs": [],
   "source": []
  },
  {
   "cell_type": "code",
   "execution_count": null,
   "metadata": {},
   "outputs": [],
   "source": []
  }
 ],
 "metadata": {
  "kernelspec": {
   "display_name": "Python 3",
   "language": "python",
   "name": "python3"
  },
  "language_info": {
   "codemirror_mode": {
    "name": "ipython",
    "version": 3
   },
   "file_extension": ".py",
   "mimetype": "text/x-python",
   "name": "python",
   "nbconvert_exporter": "python",
   "pygments_lexer": "ipython3",
   "version": "3.6.6"
  }
 },
 "nbformat": 4,
 "nbformat_minor": 2
}
