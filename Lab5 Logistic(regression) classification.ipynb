{
 "cells": [
  {
   "cell_type": "markdown",
   "metadata": {},
   "source": [
    "## Lab 5 Logistic(regression) Classification\n",
    "\n",
    "#### 복습\n",
    "Regression\n",
    "<br>\n",
    "<img width=\"1279\" alt=\"2018-11-13 2 07 29\" src=\"https://user-images.githubusercontent.com/33486820/48363277-e5fa7e00-e6e8-11e8-9fd0-97e37a309f65.png\">\n",
    "<br>\n",
    "- Hypothsis:(가설) 실제 값이 그럴 것 이라고 가설 값\n",
    "- Cost: 가설과 실제값 차이 -> 평균 낸 것 linear Regression의 목적 => cost를 optimize 하는 것\n",
    "- Gradient decent: 그래프 상 어 떤 점이든 미분을 이용하여 기울기를 구해 알고리즘을 적용 -> Optimize 한 Cost(W)를 찾을 수 있다.\n",
    "* 알파값 : 한번에 얼마나 움직이는 가를 나타내는 상수 -> Learning rule 이라고 한다\n",
    "\n",
    "### Classification \n",
    "<br>\n",
    "- Yes or No, Pass or Fail 등 Binary(이진) 으로 둘중 하나를 예측하는 것\n",
    "- 0 , 1 encoding \n",
    "- 최근에는 주식이나 뇌 질환 악성종양등을 찾아내는데 사용된다.\n",
    "\n",
    "### Linear Regression으로 ?\n",
    "<br>\n",
    "<img width=\"1196\" alt=\"image\" src=\"https://user-images.githubusercontent.com/33486820/48363645-bef07c00-e6e9-11e8-890c-c7f155cee49c.png\">\n",
    "<br>\n",
    "#### 문제점 발생\n",
    "- 위 그래프 처럼 0 ,1 의 중간 값을 찾아 classification 적용을 하게 되면 50시간의 학습을 한 후 시험에 통과 된 사람에 의해 Linear 그래프가 달라지게 되고 자연스럽게  합격 선도 달라지게 된다. \n",
    "- Hypothesis 를 적용하게 되면 0~1 사이 값이 나와야 하는데 더 큰 결과 값이 나올수 있기 때문에 0~1 사이에 값으로 압축시키는 function이 필요 --> Logistic Hypothesis\n",
    "\n",
    "### Logistic function(sigmoid)\n",
    "<br>\n",
    "<img width=\"1255\" alt=\"2018-11-13 2 18 06\" src=\"https://user-images.githubusercontent.com/33486820/48363887-62419100-e6ea-11e8-8f98-9ee010afe896.png\"><br>\n",
    "\n",
    "<img width=\"566\" alt=\"2018-11-13 2 19 11\" src=\"https://user-images.githubusercontent.com/33486820/48363975-869d6d80-e6ea-11e8-8b5c-3b9e3c7b9e3e.png\">\n",
    "\n",
    "\n",
    "\n"
   ]
  }
 ],
 "metadata": {
  "kernelspec": {
   "display_name": "Python 3",
   "language": "python",
   "name": "python3"
  },
  "language_info": {
   "codemirror_mode": {
    "name": "ipython",
    "version": 3
   },
   "file_extension": ".py",
   "mimetype": "text/x-python",
   "name": "python",
   "nbconvert_exporter": "python",
   "pygments_lexer": "ipython3",
   "version": "3.6.6"
  }
 },
 "nbformat": 4,
 "nbformat_minor": 2
}
