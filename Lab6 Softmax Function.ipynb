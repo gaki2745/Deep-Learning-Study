{
 "cells": [
  {
   "cell_type": "markdown",
   "metadata": {},
   "source": [
    "### Lab 6-1 SoftMax function"
   ]
  },
  {
   "cell_type": "markdown",
   "metadata": {},
   "source": [
    "softmax function : 여러개의 클래스를 예측할때 유용, n 개의 예측할 값이 있을 때 유용하다\n",
    "\n",
    "Logistic calssifier XW = Y (주어 진 X 값에 학습할 Weight를 곱하여 값을 만들어 낸다) 허나 이것은 단순하게 score(Logit)에 불가하고 Softmax function 에 input을 하면 \n",
    "Probability(확률)로 나오게 되고 모든 Score에 해당하는 확률의 &sigma; 값은 1이 된다. "
   ]
  },
  {
   "cell_type": "code",
   "execution_count": null,
   "metadata": {},
   "outputs": [],
   "source": [
    "#softmax function을 이용한 데이터 값의 확률 변환\n",
    "#tf.matmul(X,W) + b ==> XW \n",
    "hypothesis = tf.nn.softmax(tf.matmul(X,W) + b)"
   ]
  },
  {
   "cell_type": "code",
   "execution_count": null,
   "metadata": {},
   "outputs": [],
   "source": [
    "#Cross entropy cost/loss\n",
    "cost = tf.reduce_mean(-tf.reduce_sum(Y * tf.log(hypothesis), axis = 1))\n",
    "optimizer = tf.train.GradientDescentOptimizer(learning_rate =0.1).mimimize(cost)"
   ]
  },
  {
   "cell_type": "code",
   "execution_count": 2,
   "metadata": {},
   "outputs": [
    {
     "name": "stdout",
     "output_type": "stream",
     "text": [
      "0 2.5190194\n",
      "200 0.64940304\n",
      "400 0.5320004\n",
      "600 0.44949302\n",
      "800 0.37788486\n",
      "1000 0.30788743\n",
      "1200 0.24303676\n",
      "1400 0.2194125\n",
      "1600 0.20043297\n",
      "1800 0.18433756\n",
      "2000 0.17052929\n",
      "--------------\n",
      "[[3.8057044e-02 9.6193278e-01 1.0239968e-05]] [1]\n",
      "--------------\n",
      "[[0.66531366 0.3069914  0.0276949 ]] [0]\n",
      "--------------\n",
      "[[2.6781443e-08 4.4821366e-04 9.9955171e-01]] [2]\n",
      "--------------\n",
      "[[3.8057044e-02 9.6193278e-01 1.0239968e-05]\n",
      " [6.6531366e-01 3.0699140e-01 2.7694905e-02]\n",
      " [2.6781443e-08 4.4821366e-04 9.9955171e-01]] [1 0 2]\n"
     ]
    }
   ],
   "source": [
    "import tensorflow as tf\n",
    "tf.set_random_seed(777)\n",
    "\n",
    "x_data = [[1, 2, 1, 1],\n",
    "          [2, 1, 3, 2],\n",
    "          [3, 1, 3, 4],\n",
    "          [4, 1, 5, 5],\n",
    "          [1, 7, 5, 5],\n",
    "          [1, 2, 5, 6],\n",
    "          [1, 6, 6, 6],\n",
    "          [1, 7, 7, 7]]\n",
    "#binary classification과 다르게 여러값으로 표현 해야한다. 여러개의 class가 존재하기 때문 \n",
    "#표시방법: One-Hot encoding : n개의 레이블 중에 하나의 값만 특별히 값을 부여한다.(1을 부여한다.)\n",
    "y_data = [[0, 0, 1],#2\n",
    "          [0, 0, 1],#2\n",
    "          [0, 0, 1],#2\n",
    "          [0, 1, 0],#1\n",
    "          [0, 1, 0],#1\n",
    "          [0, 1, 0],#1\n",
    "          [1, 0, 0],#0\n",
    "          [1, 0, 0]]#0\n",
    "#각 input data 형식에 따라 placeholder 설정 한다.\n",
    "#Y의 경우에는 레이블의 개수가 placeholder에 나타난다.\n",
    "X = tf.placeholder(\"float\", [None, 4])\n",
    "Y = tf.placeholder(\"float\", [None, 3])\n",
    "\n",
    "nb_classes = 3#ouput 개수 \n",
    "W = tf.Variable(tf.random_normal([4, nb_classes]), name='weight')\n",
    "b = tf.Variable(tf.random_normal([nb_classes]), name='bias')#bias 는 나가는 값 3개만 설정(주의)\n",
    "\n",
    "# tf.nn.softmax computes softmax activations\n",
    "# softmax = exp(logits) / reduce_sum(exp(logits), dim)\n",
    "hypothesis = tf.nn.softmax(tf.matmul(X, W) + b)\n",
    "\n",
    "# Cross entropy cost/loss\n",
    "cost = tf.reduce_mean(-tf.reduce_sum(Y * tf.log(hypothesis), axis=1))\n",
    "\n",
    "optimizer = tf.train.GradientDescentOptimizer(learning_rate=0.1).minimize(cost)\n",
    "\n",
    "# Launch graph\n",
    "with tf.Session() as sess:\n",
    "    sess.run(tf.global_variables_initializer())\n",
    "\n",
    "    for step in range(2001):\n",
    "        sess.run(optimizer, feed_dict={X: x_data, Y: y_data})\n",
    "        if step % 200 == 0:\n",
    "            print(step, sess.run(cost, feed_dict={X: x_data, Y: y_data}))\n",
    "\n",
    "    print('--------------')\n",
    "\n",
    "    # Testing & One-hot encoding\n",
    "    # argmax를 이용해 One-hot encoding의 결과중 가장 큰 값 hot 한 값을 출력해 준다.\n",
    "    a = sess.run(hypothesis, feed_dict={X: [[1, 11, 7, 9]]})\n",
    "    print(a, sess.run(tf.argmax(a, 1)))\n",
    "\n",
    "    print('--------------')\n",
    "\n",
    "    b = sess.run(hypothesis, feed_dict={X: [[1, 3, 4, 3]]})\n",
    "    print(b, sess.run(tf.argmax(b, 1)))\n",
    "\n",
    "    print('--------------')\n",
    "\n",
    "    c = sess.run(hypothesis, feed_dict={X: [[1, 1, 0, 1]]})\n",
    "    print(c, sess.run(tf.argmax(c, 1)))\n",
    "\n",
    "    print('--------------')\n",
    "\n",
    "    all = sess.run(hypothesis, feed_dict={\n",
    "                   X: [[1, 11, 7, 9], [1, 3, 4, 3], [1, 1, 0, 1]]})\n",
    "    print(all, sess.run(tf.argmax(all, 1)))"
   ]
  }
 ],
 "metadata": {
  "kernelspec": {
   "display_name": "Python 3",
   "language": "python",
   "name": "python3"
  },
  "language_info": {
   "codemirror_mode": {
    "name": "ipython",
    "version": 3
   },
   "file_extension": ".py",
   "mimetype": "text/x-python",
   "name": "python",
   "nbconvert_exporter": "python",
   "pygments_lexer": "ipython3",
   "version": "3.6.6"
  }
 },
 "nbformat": 4,
 "nbformat_minor": 2
}
