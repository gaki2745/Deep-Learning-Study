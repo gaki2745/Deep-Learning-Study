{
 "cells": [
  {
   "cell_type": "markdown",
   "metadata": {},
   "source": [
    "## Shape Rank Axis\n",
    "\n",
    "### Shape\n",
    "<br>\n",
    "shape: 배열의 형태 정보를 알려준다."
   ]
  },
  {
   "cell_type": "code",
   "execution_count": 8,
   "metadata": {},
   "outputs": [
    {
     "data": {
      "text/plain": [
       "array([4], dtype=int32)"
      ]
     },
     "execution_count": 8,
     "metadata": {},
     "output_type": "execute_result"
    }
   ],
   "source": [
    "import tensorflow as tf\n",
    "sess = tf.Session()\n",
    "\n",
    "t = tf.constant([1,2,3,4])\n",
    "tf.shape(t).eval(session=sess)"
   ]
  },
  {
   "cell_type": "markdown",
   "metadata": {},
   "source": [
    "해당 배열이 몇 차원으로 이루어 졌는지 배열의 요소가 몇개인지 확인할 때 사용한다."
   ]
  },
  {
   "cell_type": "code",
   "execution_count": 9,
   "metadata": {},
   "outputs": [
    {
     "data": {
      "text/plain": [
       "array([1, 2, 3, 4], dtype=int32)"
      ]
     },
     "execution_count": 9,
     "metadata": {},
     "output_type": "execute_result"
    }
   ],
   "source": [
    "import tensorflow as tf\n",
    " \n",
    "sess = tf.Session()\n",
    " \n",
    "t1 = tf.constant([[[[1,2,3,4],[1,2,3,4], [1,2,3,4]],\n",
    "                   [[1,2,3,4],[1,2,3,4], [1,2,3,4]]]])\n",
    "tf.shape(t1).eval(session=sess)"
   ]
  },
  {
   "cell_type": "markdown",
   "metadata": {},
   "source": [
    "### Tip\n",
    "shape 계산법\n",
    "큰 대괄호의 갯수를 센다. 이것은 Rank를 의미하게 되고 결국 shape이 \n",
    "array([?,?,?,?])라는 값이 나오게 한다.\n",
    "순서가 가장 작은 요소 부터 맨 오른 쪽으로 채워 나간다\n",
    "1. 배열의 가장 작은 요소의 개수: 4\n",
    "2. 4개의 가장 작은 요소가 모인 배열들의 개수 3개\n",
    "3. 3개의 요소가 모인 배열들: 2개\n",
    "4. .. 1개\n",
    "즉 대괄호의 영역에 따라 가장 작은 대괄호의 요소들의 개수를 차례대로 오른쪽 부터 채워나가면 된다.\n",
    "[1,2,3,4]"
   ]
  },
  {
   "cell_type": "markdown",
   "metadata": {},
   "source": [
    "### Rank\n",
    "<br>\n",
    "배열이 몇 차원 배열인지 알수 있다.\n"
   ]
  },
  {
   "cell_type": "code",
   "execution_count": 13,
   "metadata": {},
   "outputs": [],
   "source": [
    "import tensorflow as tf\n",
    " \n",
    "sess = tf.Session()\n",
    " \n",
    "t1 = tf.constant([1,2,3]) #rank = 1\n",
    "t2 = tf.constant([[1,2], [3,4]]) #rank = 2"
   ]
  },
  {
   "cell_type": "markdown",
   "metadata": {},
   "source": [
    "### Axis \n",
    "축의 값, Rank-1 의 최대 값을 지닌다.-> 0부터 시작하기 때문\n",
    "대괄호 기준으로 가장 바깥쪽 Axis = 0 차례대로 1 , 2, 3,,"
   ]
  },
  {
   "cell_type": "markdown",
   "metadata": {},
   "source": [
    "### Matmul Vs Multiple"
   ]
  },
  {
   "cell_type": "code",
   "execution_count": 17,
   "metadata": {
    "scrolled": true
   },
   "outputs": [
    {
     "name": "stdout",
     "output_type": "stream",
     "text": [
      "Metrix 1 Shpae (2, 2)\n",
      "Metrix 2 Shpae (2, 1)\n"
     ]
    },
    {
     "data": {
      "text/plain": [
       "array([[ 5.],\n",
       "       [11.]], dtype=float32)"
      ]
     },
     "execution_count": 17,
     "metadata": {},
     "output_type": "execute_result"
    }
   ],
   "source": [
    "import tensorflow as tf\n",
    "\n",
    "sess = tf.Session()\n",
    "matrix1 = tf.constant([[1., 2.],[3., 4.]])\n",
    "matrix2 = tf.constant([[1.], [2.]])\n",
    "print(\"Metrix 1 Shpae\", matrix1.shape)\n",
    "print(\"Metrix 2 Shpae\", matrix2.shape)\n",
    "tf.matmul(matrix1, matrix2).eval(session = sess)\n",
    "#matmul의 조건: (n,s) x (n,k)"
   ]
  },
  {
   "cell_type": "markdown",
   "metadata": {},
   "source": [
    "### Broadcasting \n",
    "shape이 달라도 배열 연산을 해 준다.\n",
    "최대한 사용을 주의해야 한다 . 잘못 사용하면 예상하지 못한 값을 가져올 수 이기 때문에 주의"
   ]
  },
  {
   "cell_type": "code",
   "execution_count": 1,
   "metadata": {},
   "outputs": [
    {
     "data": {
      "text/plain": [
       "array([[4., 5.]], dtype=float32)"
      ]
     },
     "execution_count": 1,
     "metadata": {},
     "output_type": "execute_result"
    }
   ],
   "source": [
    "import tensorflow as tf\n",
    "\n",
    "sess = tf.Session()\n",
    "matrix1 = tf.constant([[1., 2.]])\n",
    "matrix2 = tf.constant(3.) # transform => ([[3., 3.]])\n",
    "(matrix1+matrix2).eval(session = sess)"
   ]
  },
  {
   "cell_type": "markdown",
   "metadata": {},
   "source": [
    "### Reduce operation\n",
    "행렬에서 여러 값이 있을 때 줄여주는 역할 , axsis(축) 에 따라서 연산을 하여 값을 반환 한다."
   ]
  },
  {
   "cell_type": "code",
   "execution_count": 12,
   "metadata": {},
   "outputs": [
    {
     "data": {
      "text/plain": [
       "2.5"
      ]
     },
     "execution_count": 12,
     "metadata": {},
     "output_type": "execute_result"
    }
   ],
   "source": [
    "import tensorflow as tf\n",
    "\n",
    "sess = tf.Session()\n",
    "\n",
    "tf.reduce_mean([1,2], axis = 0).eval(session = sess)\n",
    "tf.reduce_mean([[1., 2.],[3., 4.]], axis = 0).eval(session = sess) #0축 즉 1, 3  &  2 , 4 평균을 내어 준다\n",
    "tf.reduce_mean([[1., 2.],[3., 4.]], axis = 1).eval(session = sess) # 1 ,2 & 3,4 평균을 내어 준다.\n",
    "tf.reduce_mean([[1., 2.],[3., 4.]]).eval(session = sess) #축 값이 없으면 모든 행열 원소들의 평균을 내어준다.\n",
    "#sum 도 마찬가지"
   ]
  },
  {
   "cell_type": "markdown",
   "metadata": {},
   "source": [
    "### Argmax\n",
    "행렬의 원소중에서 축에 따라 가장 큰 값의 위치를 반환 해준다."
   ]
  },
  {
   "cell_type": "code",
   "execution_count": 13,
   "metadata": {},
   "outputs": [
    {
     "data": {
      "text/plain": [
       "array([1, 0, 0])"
      ]
     },
     "execution_count": 13,
     "metadata": {},
     "output_type": "execute_result"
    }
   ],
   "source": [
    "import tensorflow as tf\n",
    "\n",
    "sess = tf.Session()\n",
    "x = [[0, 1 , 2], [2, 1, 0]]\n",
    "\n",
    "tf.argmax(x,axis = 0).eval(session = sess) #축이 0이다 . 즉 0, 2(1) , 1(0), 1 , 2(0), 1 "
   ]
  },
  {
   "cell_type": "code",
   "execution_count": 15,
   "metadata": {},
   "outputs": [
    {
     "data": {
      "text/plain": [
       "array([2, 0])"
      ]
     },
     "execution_count": 15,
     "metadata": {},
     "output_type": "execute_result"
    }
   ],
   "source": [
    "tf.argmax(x,axis = 1).eval(session = sess)\n"
   ]
  },
  {
   "cell_type": "code",
   "execution_count": 16,
   "metadata": {},
   "outputs": [
    {
     "data": {
      "text/plain": [
       "array([2, 0])"
      ]
     },
     "execution_count": 16,
     "metadata": {},
     "output_type": "execute_result"
    }
   ],
   "source": [
    "tf.argmax(x,axis = -1).eval(session = sess)"
   ]
  },
  {
   "cell_type": "markdown",
   "metadata": {},
   "source": [
    "### Reshape\n",
    "tensor의 shape를 변경할 때 사용, 보통 가장 안쪽은 그대로 가져오고 바깥쪽을 Reshape 을 하게 된다.\n",
    "#### shape에 -1 값을 넣게 되면 변경에 맞춰서 값이 들어가게 된다."
   ]
  },
  {
   "cell_type": "code",
   "execution_count": 17,
   "metadata": {},
   "outputs": [
    {
     "name": "stdout",
     "output_type": "stream",
     "text": [
      "(2, 2, 3)\n",
      "[[ 0  1  2]\n",
      " [ 3  4  5]\n",
      " [ 6  7  8]\n",
      " [ 9 10 11]]\n",
      "[[[ 0  1  2]]\n",
      "\n",
      " [[ 3  4  5]]\n",
      "\n",
      " [[ 6  7  8]]\n",
      "\n",
      " [[ 9 10 11]]]\n"
     ]
    }
   ],
   "source": [
    "import tensorflow as tf\n",
    "import numpy as np\n",
    "\n",
    "# reshape\n",
    "\n",
    "t = np.array([[[0, 1, 2],\n",
    "               [3, 4, 5]], \n",
    "              [[6, 7, 8],\n",
    "               [9, 10, 11]]])\n",
    "\n",
    "print(t.shape)\n",
    "\n",
    "sess = tf.Session()\n",
    "print(tf.reshape(t, shape=[-1, 3]).eval(session=sess))\n",
    "print(tf.reshape(t, shape=[-1, 1, 3]).eval(session=sess))"
   ]
  },
  {
   "cell_type": "markdown",
   "metadata": {},
   "source": [
    "### Reshape 의 Squeeze & Expand"
   ]
  },
  {
   "cell_type": "code",
   "execution_count": 19,
   "metadata": {
    "scrolled": true
   },
   "outputs": [
    {
     "data": {
      "text/plain": [
       "array([0, 1, 2], dtype=int32)"
      ]
     },
     "execution_count": 19,
     "metadata": {},
     "output_type": "execute_result"
    }
   ],
   "source": [
    "tf.squeeze([[0], [1], [2]]).eval(session=sess)"
   ]
  },
  {
   "cell_type": "code",
   "execution_count": 20,
   "metadata": {},
   "outputs": [
    {
     "data": {
      "text/plain": [
       "array([[0],\n",
       "       [1],\n",
       "       [2]], dtype=int32)"
      ]
     },
     "execution_count": 20,
     "metadata": {},
     "output_type": "execute_result"
    }
   ],
   "source": [
    "tf.expand_dims([0,1,2], 1).eval(session = sess)"
   ]
  },
  {
   "cell_type": "markdown",
   "metadata": {},
   "source": [
    "### One hot encoding\n",
    "주어진 데이터를 0 , 1값으로 바꾸어 주는것 depth에 따라서 Rank가 생성 된다."
   ]
  },
  {
   "cell_type": "code",
   "execution_count": 21,
   "metadata": {},
   "outputs": [
    {
     "data": {
      "text/plain": [
       "array([[[1., 0., 0.]],\n",
       "\n",
       "       [[0., 1., 0.]],\n",
       "\n",
       "       [[0., 0., 1.]],\n",
       "\n",
       "       [[1., 0., 0.]]], dtype=float32)"
      ]
     },
     "execution_count": 21,
     "metadata": {},
     "output_type": "execute_result"
    }
   ],
   "source": [
    "import tensorflow as tf\n",
    "import numpy as np\n",
    "\n",
    "tf.one_hot([[0], [1], [2], [0]], depth=3).eval(session=tf.Session())"
   ]
  },
  {
   "cell_type": "markdown",
   "metadata": {},
   "source": [
    "==> 결과는 원래 데이터의 Shape +1 이기ㄷ 때문에 Reshape이 필요하다."
   ]
  },
  {
   "cell_type": "markdown",
   "metadata": {},
   "source": [
    "### Casting\n",
    "dtype으로 변경 , True , False 를 0 , 1 로 바꿔준다. (one hot encoding)"
   ]
  },
  {
   "cell_type": "code",
   "execution_count": 22,
   "metadata": {},
   "outputs": [
    {
     "name": "stdout",
     "output_type": "stream",
     "text": [
      "[1 2 3 4]\n",
      "[1 0 1 0]\n"
     ]
    }
   ],
   "source": [
    "import tensorflow as tf\n",
    "import numpy as np\n",
    "\n",
    "print(tf.cast([1.8, 2.2, 3.3, 4.9], tf.int32).eval(session=tf.Session()))\n",
    "\n",
    "print(tf.cast([True, False, 1 == 1, 0 == 1], tf.int32).eval(session=tf.Session()))"
   ]
  },
  {
   "cell_type": "markdown",
   "metadata": {},
   "source": [
    "### Stack"
   ]
  },
  {
   "cell_type": "code",
   "execution_count": 23,
   "metadata": {},
   "outputs": [
    {
     "data": {
      "text/plain": [
       "array([[1, 4],\n",
       "       [2, 5],\n",
       "       [3, 6]], dtype=int32)"
      ]
     },
     "execution_count": 23,
     "metadata": {},
     "output_type": "execute_result"
    }
   ],
   "source": [
    "import tensorflow as tf\n",
    "import numpy as np\n",
    "\n",
    "x = [1, 4]\n",
    "y = [2, 5]\n",
    "z = [3, 6]\n",
    "\n",
    "tf.stack([x, y, z]).eval(session=tf.Session())"
   ]
  },
  {
   "cell_type": "markdown",
   "metadata": {},
   "source": [
    "### Ones and Zeors like\n",
    "주어진 shape 에 0 또는 1을 채운 행렬로 만들어준다."
   ]
  },
  {
   "cell_type": "code",
   "execution_count": 24,
   "metadata": {
    "scrolled": true
   },
   "outputs": [
    {
     "name": "stdout",
     "output_type": "stream",
     "text": [
      "[[1 1 1]\n",
      " [1 1 1]]\n",
      "[[0 0 0]\n",
      " [0 0 0]]\n"
     ]
    }
   ],
   "source": [
    "import tensorflow as tf\n",
    "import numpy as np\n",
    "\n",
    "x = [[0, 1, 2],\n",
    "     [2, 1, 0]]\n",
    "\n",
    "print(tf.ones_like(x).eval(session=tf.Session())) # 1로 채운\n",
    "print(tf.zeros_like(x).eval(session=tf.Session())) # 0으로 채운"
   ]
  },
  {
   "cell_type": "markdown",
   "metadata": {},
   "source": [
    "### Zips \n",
    "복수개의 tensor를 한번에 추출 할 때 사용"
   ]
  },
  {
   "cell_type": "code",
   "execution_count": 25,
   "metadata": {},
   "outputs": [
    {
     "name": "stdout",
     "output_type": "stream",
     "text": [
      "1 4\n",
      "2 5\n",
      "3 6\n"
     ]
    }
   ],
   "source": [
    "import tensorflow as tf\n",
    "import numpy as np\n",
    "\n",
    "for x, y in zip([1, 2, 3], [4, 5, 6]): # x와 y에 담아서 처리\n",
    "  print(x, y)"
   ]
  }
 ],
 "metadata": {
  "kernelspec": {
   "display_name": "Python 3",
   "language": "python",
   "name": "python3"
  },
  "language_info": {
   "codemirror_mode": {
    "name": "ipython",
    "version": 3
   },
   "file_extension": ".py",
   "mimetype": "text/x-python",
   "name": "python",
   "nbconvert_exporter": "python",
   "pygments_lexer": "ipython3",
   "version": "3.6.6"
  }
 },
 "nbformat": 4,
 "nbformat_minor": 2
}
